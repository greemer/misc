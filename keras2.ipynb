{
 "cells": [
  {
   "cell_type": "markdown",
   "metadata": {},
   "source": [
    "imports - numpy just to read data"
   ]
  },
  {
   "cell_type": "code",
   "execution_count": 1,
   "metadata": {},
   "outputs": [
    {
     "name": "stderr",
     "output_type": "stream",
     "text": [
      "Using TensorFlow backend.\n"
     ]
    }
   ],
   "source": [
    "import numpy as np\n",
    "import pandas as pd\n",
    "from keras.layers import Dense\n",
    "from keras.models import Sequential\n",
    "from keras.callbacks import EarlyStopping\n",
    "import matplotlib.pyplot as plt"
   ]
  },
  {
   "cell_type": "markdown",
   "metadata": {},
   "source": [
    "parameter 'patience' is the number of epochs to proceed without improvement"
   ]
  },
  {
   "cell_type": "code",
   "execution_count": 2,
   "metadata": {},
   "outputs": [],
   "source": [
    "early_stopping_monitor = EarlyStopping(patience=3)"
   ]
  },
  {
   "cell_type": "markdown",
   "metadata": {},
   "source": [
    "read the data so we can find the number of nodes in the input layer (n_cols)"
   ]
  },
  {
   "cell_type": "code",
   "execution_count": 3,
   "metadata": {},
   "outputs": [],
   "source": [
    "data_file = 'hourly_wages.csv'"
   ]
  },
  {
   "cell_type": "markdown",
   "metadata": {},
   "source": [
    "use pandas to examine the file since we had a problem loading into numpy"
   ]
  },
  {
   "cell_type": "code",
   "execution_count": 4,
   "metadata": {},
   "outputs": [],
   "source": [
    "df = pd.read_csv(data_file)"
   ]
  },
  {
   "cell_type": "code",
   "execution_count": 5,
   "metadata": {},
   "outputs": [],
   "source": [
    "df = df.reindex(np.random.permutation(df.index))"
   ]
  },
  {
   "cell_type": "code",
   "execution_count": null,
   "metadata": {},
   "outputs": [],
   "source": [
    "df.columns"
   ]
  },
  {
   "cell_type": "code",
   "execution_count": 8,
   "metadata": {},
   "outputs": [
    {
     "data": {
      "text/plain": [
       "<matplotlib.axes._subplots.AxesSubplot at 0x7faeb6966e48>"
      ]
     },
     "execution_count": 8,
     "metadata": {},
     "output_type": "execute_result"
    },
    {
     "data": {
      "image/png": "[encoded data removed]",
      "text/plain": [
       "<Figure size 432x288 with 1 Axes>"
      ]
     },
     "metadata": {
      "needs_background": "light"
     },
     "output_type": "display_data"
    }
   ],
   "source": [
    "df.plot(x='education_yrs', y='wage_per_hour',kind='scatter')"
   ]
  },
  {
   "cell_type": "markdown",
   "metadata": {},
   "source": [
    "https://pandas.pydata.org/pandas-docs/stable/reference/api/pandas.DataFrame.corr.html"
   ]
  },
  {
   "cell_type": "code",
   "execution_count": 7,
   "metadata": {},
   "outputs": [
    {
     "data": {
      "text/html": [
       "<div>\n",
       "<style scoped>\n",
       "    .dataframe tbody tr th:only-of-type {\n",
       "        vertical-align: middle;\n",
       "    }\n",
       "\n",
       "    .dataframe tbody tr th {\n",
       "        vertical-align: top;\n",
       "    }\n",
       "\n",
       "    .dataframe thead th {\n",
       "        text-align: right;\n",
       "    }\n",
       "</style>\n",
       "<table border=\"1\" class=\"dataframe\">\n",
       "  <thead>\n",
       "    <tr style=\"text-align: right;\">\n",
       "      <th></th>\n",
       "      <th>wage_per_hour</th>\n",
       "      <th>union</th>\n",
       "      <th>education_yrs</th>\n",
       "      <th>experience_yrs</th>\n",
       "      <th>age</th>\n",
       "      <th>female</th>\n",
       "      <th>marr</th>\n",
       "      <th>south</th>\n",
       "      <th>manufacturing</th>\n",
       "      <th>construction</th>\n",
       "    </tr>\n",
       "  </thead>\n",
       "  <tbody>\n",
       "    <tr>\n",
       "      <th>wage_per_hour</th>\n",
       "      <td>1.000000</td>\n",
       "      <td>0.161766</td>\n",
       "      <td>0.381922</td>\n",
       "      <td>0.087060</td>\n",
       "      <td>0.176967</td>\n",
       "      <td>-0.205371</td>\n",
       "      <td>0.100579</td>\n",
       "      <td>-0.141031</td>\n",
       "      <td>0.053927</td>\n",
       "      <td>0.008314</td>\n",
       "    </tr>\n",
       "    <tr>\n",
       "      <th>union</th>\n",
       "      <td>0.161766</td>\n",
       "      <td>1.000000</td>\n",
       "      <td>-0.023886</td>\n",
       "      <td>0.117926</td>\n",
       "      <td>0.119466</td>\n",
       "      <td>-0.157027</td>\n",
       "      <td>0.093164</td>\n",
       "      <td>-0.086275</td>\n",
       "      <td>0.040185</td>\n",
       "      <td>0.086748</td>\n",
       "    </tr>\n",
       "    <tr>\n",
       "      <th>education_yrs</th>\n",
       "      <td>0.381922</td>\n",
       "      <td>-0.023886</td>\n",
       "      <td>1.000000</td>\n",
       "      <td>-0.352676</td>\n",
       "      <td>-0.150019</td>\n",
       "      <td>0.002031</td>\n",
       "      <td>-0.035522</td>\n",
       "      <td>-0.140143</td>\n",
       "      <td>-0.119605</td>\n",
       "      <td>-0.133006</td>\n",
       "    </tr>\n",
       "    <tr>\n",
       "      <th>experience_yrs</th>\n",
       "      <td>0.087060</td>\n",
       "      <td>0.117926</td>\n",
       "      <td>-0.352676</td>\n",
       "      <td>1.000000</td>\n",
       "      <td>0.977961</td>\n",
       "      <td>0.075230</td>\n",
       "      <td>0.270900</td>\n",
       "      <td>-0.007407</td>\n",
       "      <td>0.063746</td>\n",
       "      <td>0.084971</td>\n",
       "    </tr>\n",
       "    <tr>\n",
       "      <th>age</th>\n",
       "      <td>0.176967</td>\n",
       "      <td>0.119466</td>\n",
       "      <td>-0.150019</td>\n",
       "      <td>0.977961</td>\n",
       "      <td>1.000000</td>\n",
       "      <td>0.079179</td>\n",
       "      <td>0.278947</td>\n",
       "      <td>-0.038665</td>\n",
       "      <td>0.040926</td>\n",
       "      <td>0.060178</td>\n",
       "    </tr>\n",
       "    <tr>\n",
       "      <th>female</th>\n",
       "      <td>-0.205371</td>\n",
       "      <td>-0.157027</td>\n",
       "      <td>0.002031</td>\n",
       "      <td>0.075230</td>\n",
       "      <td>0.079179</td>\n",
       "      <td>1.000000</td>\n",
       "      <td>0.011225</td>\n",
       "      <td>-0.021264</td>\n",
       "      <td>-0.062097</td>\n",
       "      <td>-0.163457</td>\n",
       "    </tr>\n",
       "    <tr>\n",
       "      <th>marr</th>\n",
       "      <td>0.100579</td>\n",
       "      <td>0.093164</td>\n",
       "      <td>-0.035522</td>\n",
       "      <td>0.270900</td>\n",
       "      <td>0.278947</td>\n",
       "      <td>0.011225</td>\n",
       "      <td>1.000000</td>\n",
       "      <td>0.006523</td>\n",
       "      <td>0.031559</td>\n",
       "      <td>0.043169</td>\n",
       "    </tr>\n",
       "    <tr>\n",
       "      <th>south</th>\n",
       "      <td>-0.141031</td>\n",
       "      <td>-0.086275</td>\n",
       "      <td>-0.140143</td>\n",
       "      <td>-0.007407</td>\n",
       "      <td>-0.038665</td>\n",
       "      <td>-0.021264</td>\n",
       "      <td>0.006523</td>\n",
       "      <td>1.000000</td>\n",
       "      <td>-0.062747</td>\n",
       "      <td>0.059407</td>\n",
       "    </tr>\n",
       "    <tr>\n",
       "      <th>manufacturing</th>\n",
       "      <td>0.053927</td>\n",
       "      <td>0.040185</td>\n",
       "      <td>-0.119605</td>\n",
       "      <td>0.063746</td>\n",
       "      <td>0.040926</td>\n",
       "      <td>-0.062097</td>\n",
       "      <td>0.031559</td>\n",
       "      <td>-0.062747</td>\n",
       "      <td>1.000000</td>\n",
       "      <td>-0.103489</td>\n",
       "    </tr>\n",
       "    <tr>\n",
       "      <th>construction</th>\n",
       "      <td>0.008314</td>\n",
       "      <td>0.086748</td>\n",
       "      <td>-0.133006</td>\n",
       "      <td>0.084971</td>\n",
       "      <td>0.060178</td>\n",
       "      <td>-0.163457</td>\n",
       "      <td>0.043169</td>\n",
       "      <td>0.059407</td>\n",
       "      <td>-0.103489</td>\n",
       "      <td>1.000000</td>\n",
       "    </tr>\n",
       "  </tbody>\n",
       "</table>\n",
       "</div>"
      ],
      "text/plain": [
       "                wage_per_hour     union  education_yrs  experience_yrs  \\\n",
       "wage_per_hour        1.000000  0.161766       0.381922        0.087060   \n",
       "union                0.161766  1.000000      -0.023886        0.117926   \n",
       "education_yrs        0.381922 -0.023886       1.000000       -0.352676   \n",
       "experience_yrs       0.087060  0.117926      -0.352676        1.000000   \n",
       "age                  0.176967  0.119466      -0.150019        0.977961   \n",
       "female              -0.205371 -0.157027       0.002031        0.075230   \n",
       "marr                 0.100579  0.093164      -0.035522        0.270900   \n",
       "south               -0.141031 -0.086275      -0.140143       -0.007407   \n",
       "manufacturing        0.053927  0.040185      -0.119605        0.063746   \n",
       "construction         0.008314  0.086748      -0.133006        0.084971   \n",
       "\n",
       "                     age    female      marr     south  manufacturing  \\\n",
       "wage_per_hour   0.176967 -0.205371  0.100579 -0.141031       0.053927   \n",
       "union           0.119466 -0.157027  0.093164 -0.086275       0.040185   \n",
       "education_yrs  -0.150019  0.002031 -0.035522 -0.140143      -0.119605   \n",
       "experience_yrs  0.977961  0.075230  0.270900 -0.007407       0.063746   \n",
       "age             1.000000  0.079179  0.278947 -0.038665       0.040926   \n",
       "female          0.079179  1.000000  0.011225 -0.021264      -0.062097   \n",
       "marr            0.278947  0.011225  1.000000  0.006523       0.031559   \n",
       "south          -0.038665 -0.021264  0.006523  1.000000      -0.062747   \n",
       "manufacturing   0.040926 -0.062097  0.031559 -0.062747       1.000000   \n",
       "construction    0.060178 -0.163457  0.043169  0.059407      -0.103489   \n",
       "\n",
       "                construction  \n",
       "wage_per_hour       0.008314  \n",
       "union               0.086748  \n",
       "education_yrs      -0.133006  \n",
       "experience_yrs      0.084971  \n",
       "age                 0.060178  \n",
       "female             -0.163457  \n",
       "marr                0.043169  \n",
       "south               0.059407  \n",
       "manufacturing      -0.103489  \n",
       "construction        1.000000  "
      ]
     },
     "execution_count": 7,
     "metadata": {},
     "output_type": "execute_result"
    }
   ],
   "source": [
    "df.corr()"
   ]
  },
  {
   "cell_type": "code",
   "execution_count": null,
   "metadata": {},
   "outputs": [],
   "source": [
    "df.describe()"
   ]
  },
  {
   "cell_type": "markdown",
   "metadata": {},
   "source": [
    "first row was a text headers which numpy could not handle. \n",
    "had to add \"skiprows=1\" parameter to get the loadtxt method to work"
   ]
  },
  {
   "cell_type": "code",
   "execution_count": null,
   "metadata": {},
   "outputs": [],
   "source": [
    "# predictors = np.loadtxt(data_file, delimiter=',', skiprows=1)"
   ]
  },
  {
   "cell_type": "code",
   "execution_count": null,
   "metadata": {},
   "outputs": [],
   "source": [
    "df.info()"
   ]
  },
  {
   "cell_type": "code",
   "execution_count": null,
   "metadata": {},
   "outputs": [],
   "source": [
    "df.union = df.union.astype('bool')\n",
    "df.female = df.female.astype('bool')\n",
    "df.marr = df.marr.astype('bool')\n",
    "df.south = df.south.astype('bool')\n",
    "df.manufacturing = df.manufacturing.astype('bool')\n",
    "df.construction = df.construction.astype('bool')"
   ]
  },
  {
   "cell_type": "code",
   "execution_count": null,
   "metadata": {},
   "outputs": [],
   "source": [
    "df.columns"
   ]
  },
  {
   "cell_type": "code",
   "execution_count": null,
   "metadata": {},
   "outputs": [],
   "source": [
    "# predictors = df.drop(['wage_per_hour','union','education_yrs','experience_yrs',\n",
    "#                       'age', 'female', 'marr', 'south', 'manufacturing','construction',\n",
    "#                      ], axis=1)"
   ]
  },
  {
   "cell_type": "markdown",
   "metadata": {},
   "source": [
    "based on correlation, use only education_yrs and age for features"
   ]
  },
  {
   "cell_type": "code",
   "execution_count": 9,
   "metadata": {},
   "outputs": [],
   "source": [
    "predictors = df.drop(['wage_per_hour','union','experience_yrs',\n",
    "                      'female', 'marr', 'south', 'manufacturing','construction',\n",
    "                     ], axis=1)"
   ]
  },
  {
   "cell_type": "code",
   "execution_count": null,
   "metadata": {},
   "outputs": [],
   "source": [
    "predictors.describe()"
   ]
  },
  {
   "cell_type": "code",
   "execution_count": null,
   "metadata": {},
   "outputs": [],
   "source": [
    "from sklearn.preprocessing import Normalizer"
   ]
  },
  {
   "cell_type": "code",
   "execution_count": null,
   "metadata": {},
   "outputs": [],
   "source": [
    "df.plot()"
   ]
  },
  {
   "cell_type": "code",
   "execution_count": null,
   "metadata": {},
   "outputs": [],
   "source": [
    "df20 = df.head(20)"
   ]
  },
  {
   "cell_type": "code",
   "execution_count": 10,
   "metadata": {},
   "outputs": [],
   "source": [
    "target = df.wage_per_hour"
   ]
  },
  {
   "cell_type": "code",
   "execution_count": null,
   "metadata": {},
   "outputs": [],
   "source": [
    "transformer = Normalizer().fit(df)"
   ]
  },
  {
   "cell_type": "code",
   "execution_count": null,
   "metadata": {},
   "outputs": [],
   "source": [
    "df_norm = transformer.transform(df)"
   ]
  },
  {
   "cell_type": "code",
   "execution_count": null,
   "metadata": {},
   "outputs": [],
   "source": [
    "df_norm[1:3,1:5]"
   ]
  },
  {
   "cell_type": "code",
   "execution_count": null,
   "metadata": {},
   "outputs": [],
   "source": [
    "df_target = df_norm[0:,0:1]"
   ]
  },
  {
   "cell_type": "code",
   "execution_count": null,
   "metadata": {},
   "outputs": [],
   "source": [
    "df_target"
   ]
  },
  {
   "cell_type": "code",
   "execution_count": null,
   "metadata": {},
   "outputs": [],
   "source": [
    "df_my = pd.DataFrame(df_norm)"
   ]
  },
  {
   "cell_type": "code",
   "execution_count": null,
   "metadata": {},
   "outputs": [],
   "source": [
    "target2 = df_my"
   ]
  },
  {
   "cell_type": "code",
   "execution_count": null,
   "metadata": {},
   "outputs": [],
   "source": [
    "df_my.columns"
   ]
  },
  {
   "cell_type": "code",
   "execution_count": null,
   "metadata": {},
   "outputs": [],
   "source": [
    "target2([1:],[1:])"
   ]
  },
  {
   "cell_type": "code",
   "execution_count": null,
   "metadata": {},
   "outputs": [],
   "source": [
    "df20['wage_per_hour'].plot(kind='bar')"
   ]
  },
  {
   "cell_type": "code",
   "execution_count": null,
   "metadata": {},
   "outputs": [],
   "source": [
    "target.mean()"
   ]
  },
  {
   "cell_type": "code",
   "execution_count": null,
   "metadata": {},
   "outputs": [],
   "source": [
    "target.std()"
   ]
  },
  {
   "cell_type": "code",
   "execution_count": null,
   "metadata": {},
   "outputs": [],
   "source": [
    "target"
   ]
  },
  {
   "cell_type": "code",
   "execution_count": null,
   "metadata": {},
   "outputs": [],
   "source": [
    "df.head()"
   ]
  },
  {
   "cell_type": "code",
   "execution_count": 11,
   "metadata": {},
   "outputs": [],
   "source": [
    "n_cols = predictors.shape[1]"
   ]
  },
  {
   "cell_type": "code",
   "execution_count": 12,
   "metadata": {},
   "outputs": [
    {
     "data": {
      "text/plain": [
       "2"
      ]
     },
     "execution_count": 12,
     "metadata": {},
     "output_type": "execute_result"
    }
   ],
   "source": [
    "n_cols"
   ]
  },
  {
   "cell_type": "markdown",
   "metadata": {},
   "source": [
    "Sequential model - each layer connected only to the previous layer"
   ]
  },
  {
   "cell_type": "code",
   "execution_count": 13,
   "metadata": {},
   "outputs": [],
   "source": [
    "from keras import optimizers"
   ]
  },
  {
   "cell_type": "code",
   "execution_count": 14,
   "metadata": {},
   "outputs": [
    {
     "name": "stdout",
     "output_type": "stream",
     "text": [
      "WARNING:tensorflow:From /home/brian/anaconda3/envs/datacamp/lib/python3.7/site-packages/tensorflow/python/framework/op_def_library.py:263: colocate_with (from tensorflow.python.framework.ops) is deprecated and will be removed in a future version.\n",
      "Instructions for updating:\n",
      "Colocations handled automatically by placer.\n"
     ]
    }
   ],
   "source": [
    "adam = optimizers.Adam(lr=0.01, beta_1=0.9, beta_2=0.999, epsilon=None, decay=0.0, amsgrad=False)"
   ]
  },
  {
   "cell_type": "code",
   "execution_count": 15,
   "metadata": {},
   "outputs": [],
   "source": [
    "model = Sequential()"
   ]
  },
  {
   "cell_type": "markdown",
   "metadata": {},
   "source": [
    "build up model layer at a time - 'Dense' layers are fully connected"
   ]
  },
  {
   "cell_type": "code",
   "execution_count": 16,
   "metadata": {},
   "outputs": [],
   "source": [
    "model.add(Dense(100, activation='relu', input_shape = (n_cols,)))"
   ]
  },
  {
   "cell_type": "code",
   "execution_count": 17,
   "metadata": {},
   "outputs": [],
   "source": [
    "model.add(Dense(100, activation='relu'))"
   ]
  },
  {
   "cell_type": "code",
   "execution_count": 18,
   "metadata": {},
   "outputs": [],
   "source": [
    "model.add(Dense(1))"
   ]
  },
  {
   "cell_type": "markdown",
   "metadata": {},
   "source": [
    "dump out the model configuration"
   ]
  },
  {
   "cell_type": "code",
   "execution_count": null,
   "metadata": {},
   "outputs": [],
   "source": [
    "model.get_config()"
   ]
  },
  {
   "cell_type": "markdown",
   "metadata": {},
   "source": [
    "'adam' is a good, general purpose optimizer that adjusts the learning rate as it goes"
   ]
  },
  {
   "cell_type": "code",
   "execution_count": 19,
   "metadata": {},
   "outputs": [],
   "source": [
    "model.compile(optimizer=adam, loss='mean_squared_error', metrics=['accuracy'])"
   ]
  },
  {
   "cell_type": "code",
   "execution_count": null,
   "metadata": {},
   "outputs": [],
   "source": [
    "# model.compile(optimizer=adam, loss='mean_squared_error')"
   ]
  },
  {
   "cell_type": "code",
   "execution_count": null,
   "metadata": {},
   "outputs": [],
   "source": [
    "# model.compile(optimizer='adam', loss='mean_squared_error')"
   ]
  },
  {
   "cell_type": "markdown",
   "metadata": {},
   "source": [
    "need to split out the target column from the data"
   ]
  },
  {
   "cell_type": "code",
   "execution_count": null,
   "metadata": {},
   "outputs": [],
   "source": [
    "for l in range(0,len(target)) :\n",
    "    if target[l] > 40:\n",
    "        target[l] = 9.0"
   ]
  },
  {
   "cell_type": "code",
   "execution_count": null,
   "metadata": {},
   "outputs": [],
   "source": [
    "if (target>40) "
   ]
  },
  {
   "cell_type": "code",
   "execution_count": null,
   "metadata": {},
   "outputs": [],
   "source": [
    "target.describe()"
   ]
  },
  {
   "cell_type": "code",
   "execution_count": 20,
   "metadata": {},
   "outputs": [
    {
     "name": "stdout",
     "output_type": "stream",
     "text": [
      "WARNING:tensorflow:From /home/brian/anaconda3/envs/datacamp/lib/python3.7/site-packages/tensorflow/python/ops/math_ops.py:3066: to_int32 (from tensorflow.python.ops.math_ops) is deprecated and will be removed in a future version.\n",
      "Instructions for updating:\n",
      "Use tf.cast instead.\n",
      "Train on 373 samples, validate on 161 samples\n",
      "Epoch 1/20\n",
      "373/373 [==============================] - 1s 2ms/step - loss: 49.6206 - acc: 0.0241 - val_loss: 30.9089 - val_acc: 0.0124\n",
      "Epoch 2/20\n",
      "373/373 [==============================] - 0s 266us/step - loss: 23.3864 - acc: 0.0161 - val_loss: 33.1755 - val_acc: 0.0124\n",
      "Epoch 3/20\n",
      "373/373 [==============================] - 0s 273us/step - loss: 19.5546 - acc: 0.0349 - val_loss: 30.8145 - val_acc: 0.0248\n",
      "Epoch 4/20\n",
      "373/373 [==============================] - 0s 227us/step - loss: 18.3465 - acc: 0.0429 - val_loss: 30.2510 - val_acc: 0.0248\n",
      "Epoch 5/20\n",
      "373/373 [==============================] - 0s 202us/step - loss: 18.6162 - acc: 0.0322 - val_loss: 29.1420 - val_acc: 0.0124\n",
      "Epoch 6/20\n",
      "373/373 [==============================] - 0s 219us/step - loss: 19.1312 - acc: 0.0349 - val_loss: 30.4998 - val_acc: 0.0248\n",
      "Epoch 7/20\n",
      "373/373 [==============================] - 0s 214us/step - loss: 20.3815 - acc: 0.0322 - val_loss: 30.2544 - val_acc: 0.0248\n",
      "Epoch 8/20\n",
      "373/373 [==============================] - 0s 123us/step - loss: 18.2354 - acc: 0.0349 - val_loss: 29.8210 - val_acc: 0.0186\n",
      "Epoch 9/20\n",
      "373/373 [==============================] - 0s 166us/step - loss: 18.4751 - acc: 0.0241 - val_loss: 33.5051 - val_acc: 0.0248\n",
      "Epoch 10/20\n",
      "373/373 [==============================] - 0s 259us/step - loss: 20.6268 - acc: 0.0161 - val_loss: 29.4918 - val_acc: 0.0248\n",
      "Epoch 11/20\n",
      "373/373 [==============================] - 0s 213us/step - loss: 18.4637 - acc: 0.0214 - val_loss: 29.8663 - val_acc: 0.0311\n",
      "Epoch 12/20\n",
      "373/373 [==============================] - 0s 201us/step - loss: 18.6111 - acc: 0.0429 - val_loss: 29.6055 - val_acc: 0.0062\n",
      "Epoch 13/20\n",
      "373/373 [==============================] - 0s 432us/step - loss: 19.0781 - acc: 0.0375 - val_loss: 29.0206 - val_acc: 0.0124\n",
      "Epoch 14/20\n",
      "373/373 [==============================] - 0s 133us/step - loss: 19.2915 - acc: 0.0349 - val_loss: 29.8343 - val_acc: 0.0000e+00\n",
      "Epoch 15/20\n",
      "373/373 [==============================] - 0s 150us/step - loss: 18.9365 - acc: 0.0375 - val_loss: 30.0686 - val_acc: 0.0000e+00\n",
      "Epoch 16/20\n",
      "373/373 [==============================] - 0s 189us/step - loss: 18.4922 - acc: 0.0295 - val_loss: 29.9540 - val_acc: 0.0248\n",
      "Epoch 17/20\n",
      "373/373 [==============================] - 0s 174us/step - loss: 18.6343 - acc: 0.0483 - val_loss: 34.1630 - val_acc: 0.0186\n",
      "Epoch 18/20\n",
      "373/373 [==============================] - 0s 216us/step - loss: 18.7884 - acc: 0.0349 - val_loss: 29.1048 - val_acc: 0.0062\n",
      "Epoch 19/20\n",
      "373/373 [==============================] - 0s 135us/step - loss: 19.2080 - acc: 0.0322 - val_loss: 29.8819 - val_acc: 0.0062\n",
      "Epoch 20/20\n",
      "373/373 [==============================] - 0s 136us/step - loss: 18.2169 - acc: 0.0188 - val_loss: 30.7622 - val_acc: 0.0248\n"
     ]
    },
    {
     "data": {
      "text/plain": [
       "<keras.callbacks.History at 0x7faeb6015240>"
      ]
     },
     "execution_count": 20,
     "metadata": {},
     "output_type": "execute_result"
    }
   ],
   "source": [
    "model.fit(predictors, target, validation_split=0.3, epochs=20)"
   ]
  },
  {
   "cell_type": "code",
   "execution_count": null,
   "metadata": {},
   "outputs": [],
   "source": [
    "model.predict()"
   ]
  },
  {
   "cell_type": "code",
   "execution_count": null,
   "metadata": {},
   "outputs": [],
   "source": [
    "model.fit(predictors, target, validation_split=0.3, epochs=20, \n",
    "          callbacks = [early_stopping_monitor])"
   ]
  },
  {
   "cell_type": "markdown",
   "metadata": {},
   "source": [
    "this model is not doing very well. Maybe need to look at scaling the data. \n",
    "Find the mean of each feature and divide by standard deviation."
   ]
  },
  {
   "cell_type": "code",
   "execution_count": null,
   "metadata": {},
   "outputs": [],
   "source": [
    "from keras.models import load_model"
   ]
  },
  {
   "cell_type": "code",
   "execution_count": null,
   "metadata": {},
   "outputs": [],
   "source": [
    "model.save('model_file.h5')"
   ]
  },
  {
   "cell_type": "code",
   "execution_count": null,
   "metadata": {},
   "outputs": [],
   "source": [
    "my_model = load_model('model_file.h5')"
   ]
  },
  {
   "cell_type": "code",
   "execution_count": null,
   "metadata": {},
   "outputs": [],
   "source": []
  }
 ],
 "metadata": {
  "kernelspec": {
   "display_name": "Python 3",
   "language": "python",
   "name": "python3"
  },
  "language_info": {
   "codemirror_mode": {
    "name": "ipython",
    "version": 3
   },
   "file_extension": ".py",
   "mimetype": "text/x-python",
   "name": "python",
   "nbconvert_exporter": "python",
   "pygments_lexer": "ipython3",
   "version": "3.7.3"
  }
 },
 "nbformat": 4,
 "nbformat_minor": 2
}
